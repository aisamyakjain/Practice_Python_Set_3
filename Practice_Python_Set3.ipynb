{
 "cells": [
  {
   "cell_type": "code",
   "execution_count": 4,
   "id": "74c03f20-934b-493a-b87b-c029fcd99754",
   "metadata": {},
   "outputs": [
    {
     "name": "stdout",
     "output_type": "stream",
     "text": [
      "0.75\n",
      "1.25\n",
      "0.90\n"
     ]
    }
   ],
   "source": [
    "# Q1. Create a dictionary called fruits with the following key-value pairs:\n",
    "\n",
    "# \"apple\": 0.75\n",
    "\n",
    "# \"banana\": 1.25\n",
    "\n",
    "# \"orange\": 0.90\n",
    "\n",
    "# Then, print out the price of a banana\n",
    "\n",
    "dictionary = { \"apple\" : \"0.75\" , \"banana\" : \"1.25\" , \"orange\" : \"0.90\" }\n",
    "print (dictionary[\"apple\"])\n",
    "print (dictionary[\"banana\"])\n",
    "print (dictionary[\"orange\"])"
   ]
  },
  {
   "cell_type": "code",
   "execution_count": 6,
   "id": "a66026d2-aaa3-4f1e-9e1e-546ac046f226",
   "metadata": {},
   "outputs": [
    {
     "name": "stdout",
     "output_type": "stream",
     "text": [
      "35\n"
     ]
    }
   ],
   "source": [
    "# Q2. Create an empty dictionary called ages. Add the following key-value pairs to the dictionary:\n",
    "\n",
    "# \"Alice\": 30\n",
    "\n",
    "# \"Bob\": 25\n",
    "\n",
    "# \"Charlie\": 35\n",
    "\n",
    "# Then, print out the age of Charlie\n",
    "\n",
    "ages =  {\"Alice\": 30 , \"Bob\": 25, \"Charlie\": 35}\n",
    "print(ages[\"Charlie\"])"
   ]
  },
  {
   "cell_type": "code",
   "execution_count": 7,
   "id": "0b6b77b4-e940-4a9d-87cb-bfcec17daaa4",
   "metadata": {},
   "outputs": [
    {
     "name": "stdout",
     "output_type": "stream",
     "text": [
      "{'hello': 2, 'world': 1}\n"
     ]
    }
   ],
   "source": [
    "# Q3. Write a function called word_count(text) that takes a string as input and returns a dictionary where \n",
    "# each key is a word in the text and its value is the number of times that word appears in the text. For \n",
    "# example, word_count(\"hello world hello\") should return {\"hello\": 2, \"world\": 1}\n",
    "\n",
    "def word_count(text):\n",
    "    words = text.split()\n",
    "    word_counts = {}\n",
    "    for word in words:\n",
    "        if word in word_counts:\n",
    "            word_counts[word] += 1\n",
    "        else:\n",
    "            word_counts[word] = 1\n",
    "    return word_counts\n",
    "\n",
    "# Test the function\n",
    "text = \"hello world hello\"\n",
    "result = word_count(text)\n",
    "print(result)\n"
   ]
  },
  {
   "cell_type": "code",
   "execution_count": 8,
   "id": "dcf77589-36c7-4507-b484-af01e701372b",
   "metadata": {},
   "outputs": [
    {
     "name": "stdin",
     "output_type": "stream",
     "text": [
      "Enter a name:  Alice\n"
     ]
    },
    {
     "name": "stdout",
     "output_type": "stream",
     "text": [
      "Phone number: 555-1234\n"
     ]
    }
   ],
   "source": [
    "# Q4. Create a dictionary called phone_book with the following key-value pairs:\n",
    "\n",
    "# \"Alice\": \"555-1234\"\n",
    "\n",
    "# \"Bob\": \"555-5678\"\n",
    "\n",
    "# \"Charlie\": \"555-9012\"\n",
    "\n",
    "# Then, prompt the user to enter a name and print out the corresponding phone number. If the name is not \n",
    "# in the phone book, print out a message saying that the name was not found\n",
    "\n",
    "\n",
    "phone_book = {\n",
    "    \"Alice\": \"555-1234\",\n",
    "    \"Bob\": \"555-5678\",\n",
    "    \"Charlie\": \"555-9012\"\n",
    "}\n",
    "\n",
    "# Prompt the user to enter a name\n",
    "name = input(\"Enter a name: \")\n",
    "\n",
    "# Look up the phone number in the phone book\n",
    "phone_number = phone_book.get(name)\n",
    "\n",
    "# Check if the name was found or not\n",
    "if phone_number:\n",
    "    print(\"Phone number:\", phone_number)\n",
    "else:\n",
    "    print(\"Name not found in the phone book.\")\n",
    "\n"
   ]
  },
  {
   "cell_type": "code",
   "execution_count": 22,
   "id": "8f469454-cf12-42ca-a83f-a49e1c051737",
   "metadata": {},
   "outputs": [
    {
     "name": "stdin",
     "output_type": "stream",
     "text": [
      "Enter the number between 1 and 10 6\n"
     ]
    },
    {
     "name": "stdout",
     "output_type": "stream",
     "text": [
      "Too High!\n"
     ]
    }
   ],
   "source": [
    "# Q5. Write a program that prompts the user to enter a number between 1 and 10. If the number is less than \n",
    "# 5, print out \"Too low!\", otherwise print out \"Too high!\"\n",
    "size = int(input(\"Enter the number between 1 and 10\"))\n",
    "if (size<5):\n",
    "    print(\"Too low!\")\n",
    "else:\n",
    "    print(\"Too High!\")\n",
    "\n"
   ]
  },
  {
   "cell_type": "code",
   "execution_count": 25,
   "id": "95538686-35a9-425c-bf7b-d99220240a1b",
   "metadata": {},
   "outputs": [
    {
     "name": "stdin",
     "output_type": "stream",
     "text": [
      "Enter the password: password123\n"
     ]
    },
    {
     "name": "stdout",
     "output_type": "stream",
     "text": [
      "Access Granted\n"
     ]
    }
   ],
   "source": [
    "# Q6. Write a program that prompts the user to enter a password. If the password is \"password123\", print \n",
    "# out \"Access granted\", otherwise print out \"Access denied\".\n",
    "\n",
    "password = input(\"Enter the password:\")\n",
    "if(password == \"password123\"):\n",
    "        print(\"Access Granted\")\n",
    "else: \n",
    "    print(\"Access Denied\")"
   ]
  },
  {
   "cell_type": "code",
   "execution_count": 26,
   "id": "6bd3e3b4-6f1b-409e-b2ba-837d7a77b444",
   "metadata": {},
   "outputs": [
    {
     "name": "stdin",
     "output_type": "stream",
     "text": [
      "Enter a positive integer:  7\n"
     ]
    },
    {
     "name": "stdout",
     "output_type": "stream",
     "text": [
      "Odd numbers from 1 to 7 :\n",
      "1\n",
      "3\n",
      "5\n",
      "7\n"
     ]
    }
   ],
   "source": [
    "# Q7. Write a program that prompts the user to enter a positive integer. Then, use a loop to print out all the \n",
    "# odd numbers from 1 to that integer\n",
    "\n",
    "number = int(input(\"Enter a positive integer: \"))\n",
    "\n",
    "if number < 1:\n",
    "    print(\"Invalid input. Please enter a positive integer.\")\n",
    "else:\n",
    "    print(\"Odd numbers from 1 to\", number, \":\")\n",
    "    for i in range(1, number + 1, 2):\n",
    "        print(i)\n"
   ]
  },
  {
   "cell_type": "code",
   "execution_count": 27,
   "id": "9502f28f-846a-4da3-b33b-36f771ea2b1b",
   "metadata": {},
   "outputs": [
    {
     "name": "stdin",
     "output_type": "stream",
     "text": [
      "Guess the number between 1 and 100:  25\n"
     ]
    },
    {
     "name": "stdout",
     "output_type": "stream",
     "text": [
      "Too low!\n"
     ]
    }
   ],
   "source": [
    "# Q8. Write a program that generates a random number between 1 and 100 and then prompts the user to \n",
    "# guess the number. If the user's guess is too low, print out \"Too low!\", if the guess is too high, print out \"Too \n",
    "# high!\", and if the guess is correct, print out \"You win!\"\n",
    "\n",
    "import random\n",
    "\n",
    "# Generate a random number between 1 and 100\n",
    "secret_number = random.randint(1, 100)\n",
    "\n",
    "# Prompt the user to guess the number\n",
    "guess = int(input(\"Guess the number between 1 and 100: \"))\n",
    "\n",
    "# Compare the user's guess with the secret number\n",
    "if guess < secret_number:\n",
    "    print(\"Too low!\")\n",
    "elif guess > secret_number:\n",
    "    print(\"Too high!\")\n",
    "else:\n",
    "    print(\"You win!\")\n"
   ]
  },
  {
   "cell_type": "code",
   "execution_count": 28,
   "id": "2a8e2c84-fb58-4fc7-8a91-e458fa639062",
   "metadata": {},
   "outputs": [
    {
     "name": "stdin",
     "output_type": "stream",
     "text": [
      "Guess the number between 1 and 10:  7\n"
     ]
    },
    {
     "name": "stdout",
     "output_type": "stream",
     "text": [
      "Too low!\n"
     ]
    },
    {
     "name": "stdin",
     "output_type": "stream",
     "text": [
      "Guess the number between 1 and 10:  8\n"
     ]
    },
    {
     "name": "stdout",
     "output_type": "stream",
     "text": [
      "You win!\n"
     ]
    }
   ],
   "source": [
    "# Q9. Write a program that generates a random number between 1 and 10 and then prompts the user to \n",
    "# guess the number. The user has three attempts to guess the number. If the user guesses correctly within \n",
    "# three attempts, print out \"You win!\", otherwise print out \"You lose!\"\n",
    "\n",
    "import random\n",
    "\n",
    "# Generate a random number between 1 and 10\n",
    "secret_number = random.randint(1, 10)\n",
    "\n",
    "# Set the number of attempts\n",
    "attempts = 3\n",
    "\n",
    "# Loop for three attempts\n",
    "for attempt in range(attempts):\n",
    "    # Prompt the user to guess the number\n",
    "    guess = int(input(\"Guess the number between 1 and 10: \"))\n",
    "\n",
    "    # Compare the user's guess with the secret number\n",
    "    if guess < secret_number:\n",
    "        print(\"Too low!\")\n",
    "    elif guess > secret_number:\n",
    "        print(\"Too high!\")\n",
    "    else:\n",
    "        print(\"You win!\")\n",
    "        break\n",
    "else:\n",
    "    print(\"You lose! The number was\", secret_number)\n"
   ]
  },
  {
   "cell_type": "code",
   "execution_count": 30,
   "id": "c30ba51e-c7de-458d-a5aa-bf48fa158d43",
   "metadata": {},
   "outputs": [
    {
     "name": "stdin",
     "output_type": "stream",
     "text": [
      "Enter your age:  25\n"
     ]
    },
    {
     "name": "stdout",
     "output_type": "stream",
     "text": [
      "You are an adult.\n"
     ]
    }
   ],
   "source": [
    "# Q10. Write a program that prompts the user to enter their age and then prints out whether they are a child \n",
    "# (age 0-12), a teenager (age 13-19), an adult (age 20-59), or a senior (age 60+)\n",
    "\n",
    "age = int(input(\"Enter your age: \"))\n",
    "\n",
    "if age >= 0 and age <= 12:\n",
    "    print(\"You are a child.\")\n",
    "elif age >= 13 and age <= 19:\n",
    "    print(\"You are a teenager.\")\n",
    "elif age >= 20 and age <= 59:\n",
    "    print(\"You are an adult.\")\n",
    "elif age >= 60:\n",
    "    print(\"You are a senior.\")\n",
    "else:\n",
    "    print(\"Invalid age entered.\")\n"
   ]
  },
  {
   "cell_type": "code",
   "execution_count": null,
   "id": "65df720b-04e7-43a9-b937-83710dc7efb9",
   "metadata": {},
   "outputs": [],
   "source": []
  }
 ],
 "metadata": {
  "kernelspec": {
   "display_name": "Python 3 (ipykernel)",
   "language": "python",
   "name": "python3"
  },
  "language_info": {
   "codemirror_mode": {
    "name": "ipython",
    "version": 3
   },
   "file_extension": ".py",
   "mimetype": "text/x-python",
   "name": "python",
   "nbconvert_exporter": "python",
   "pygments_lexer": "ipython3",
   "version": "3.10.8"
  }
 },
 "nbformat": 4,
 "nbformat_minor": 5
}
